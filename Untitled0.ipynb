{
 "metadata": {
  "name": "",
  "signature": "sha256:1747a2dc602117fb265f9fc1b96a5ba40cee78a20c54e8dad9ada528c8a18a80"
 },
 "nbformat": 3,
 "nbformat_minor": 0,
 "worksheets": []
}